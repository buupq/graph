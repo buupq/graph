{
 "cells": [
  {
   "cell_type": "markdown",
   "metadata": {
    "id": "hmQcJgGH0TKw"
   },
   "source": [
    "# Node classification using solely node features with multilayer perceptron model"
   ]
  },
  {
   "cell_type": "markdown",
   "metadata": {},
   "source": [
    "* Cora dataset contains:\n",
    "  * 2708 publications or nodes.\n",
    "  * Each reference is an edge.\n",
    "  * Title of each publication is represented by a binary vector of 1433 unique words. Words exist in the title is represented by 1, otherwise: 0.\n",
    "  * There are 7 categories of these publications.\n",
    "* Node classification task in this dataset is to put publications on appropriate categories based on its binary title vector."
   ]
  },
  {
   "cell_type": "code",
   "execution_count": 1,
   "metadata": {
    "colab": {
     "base_uri": "https://localhost:8080/"
    },
    "id": "JoN3GTmw0CTs",
    "outputId": "c4b7ebbc-79d6-44d3-b448-7006f2b586f4"
   },
   "outputs": [
    {
     "name": "stderr",
     "output_type": "stream",
     "text": [
      "Downloading https://github.com/kimiyoung/planetoid/raw/master/data/ind.cora.x\n",
      "Downloading https://github.com/kimiyoung/planetoid/raw/master/data/ind.cora.tx\n",
      "Downloading https://github.com/kimiyoung/planetoid/raw/master/data/ind.cora.allx\n",
      "Downloading https://github.com/kimiyoung/planetoid/raw/master/data/ind.cora.y\n",
      "Downloading https://github.com/kimiyoung/planetoid/raw/master/data/ind.cora.ty\n",
      "Downloading https://github.com/kimiyoung/planetoid/raw/master/data/ind.cora.ally\n",
      "Downloading https://github.com/kimiyoung/planetoid/raw/master/data/ind.cora.graph\n",
      "Downloading https://github.com/kimiyoung/planetoid/raw/master/data/ind.cora.test.index\n",
      "Processing...\n",
      "Done!\n"
     ]
    },
    {
     "data": {
      "text/plain": [
       "Data(x=[2708, 1433], edge_index=[2, 10556], y=[2708], train_mask=[2708], val_mask=[2708], test_mask=[2708])"
      ]
     },
     "execution_count": 1,
     "metadata": {},
     "output_type": "execute_result"
    }
   ],
   "source": [
    "# import dataset\n",
    "try:\n",
    "    from torch_geometric.datasets import Planetoid\n",
    "except:\n",
    "    !pip install -q torch-geometric\n",
    "    from torch_geometric.datasets import Planetoid\n",
    "\n",
    "# Download Cora dataset\n",
    "dataset = Planetoid(root='.', name='Cora')\n",
    "data = dataset[0]\n",
    "data"
   ]
  },
  {
   "cell_type": "code",
   "execution_count": 2,
   "metadata": {},
   "outputs": [
    {
     "name": "stdout",
     "output_type": "stream",
     "text": [
      "Cora dataset shape: torch.Size([2708, 1433])\n"
     ]
    }
   ],
   "source": [
    "# Cora feature shape:\n",
    "#     2708 is the number of publications\n",
    "#     1433 is the length of the binary title\n",
    "\n",
    "print(f\"Cora dataset shape: {(data.x).shape}\")"
   ]
  },
  {
   "cell_type": "code",
   "execution_count": 3,
   "metadata": {},
   "outputs": [
    {
     "data": {
      "text/plain": [
       "tensor([3, 4, 4, 0, 3, 2, 0, 3, 3, 2])"
      ]
     },
     "execution_count": 3,
     "metadata": {},
     "output_type": "execute_result"
    }
   ],
   "source": [
    "# Cora labels (0->6)\n",
    "data.y[:10]"
   ]
  },
  {
   "cell_type": "code",
   "execution_count": 4,
   "metadata": {
    "scrolled": true
   },
   "outputs": [
    {
     "data": {
      "text/html": [
       "<div>\n",
       "<style scoped>\n",
       "    .dataframe tbody tr th:only-of-type {\n",
       "        vertical-align: middle;\n",
       "    }\n",
       "\n",
       "    .dataframe tbody tr th {\n",
       "        vertical-align: top;\n",
       "    }\n",
       "\n",
       "    .dataframe thead th {\n",
       "        text-align: right;\n",
       "    }\n",
       "</style>\n",
       "<table border=\"1\" class=\"dataframe\">\n",
       "  <thead>\n",
       "    <tr style=\"text-align: right;\">\n",
       "      <th></th>\n",
       "      <th>0</th>\n",
       "      <th>1</th>\n",
       "      <th>2</th>\n",
       "      <th>3</th>\n",
       "      <th>4</th>\n",
       "      <th>5</th>\n",
       "      <th>6</th>\n",
       "      <th>7</th>\n",
       "      <th>8</th>\n",
       "      <th>9</th>\n",
       "      <th>...</th>\n",
       "      <th>1424</th>\n",
       "      <th>1425</th>\n",
       "      <th>1426</th>\n",
       "      <th>1427</th>\n",
       "      <th>1428</th>\n",
       "      <th>1429</th>\n",
       "      <th>1430</th>\n",
       "      <th>1431</th>\n",
       "      <th>1432</th>\n",
       "      <th>label</th>\n",
       "    </tr>\n",
       "  </thead>\n",
       "  <tbody>\n",
       "    <tr>\n",
       "      <th>0</th>\n",
       "      <td>0.0</td>\n",
       "      <td>0.0</td>\n",
       "      <td>0.0</td>\n",
       "      <td>0.0</td>\n",
       "      <td>0.0</td>\n",
       "      <td>0.0</td>\n",
       "      <td>0.0</td>\n",
       "      <td>0.0</td>\n",
       "      <td>0.0</td>\n",
       "      <td>0.0</td>\n",
       "      <td>...</td>\n",
       "      <td>0.0</td>\n",
       "      <td>0.0</td>\n",
       "      <td>0.0</td>\n",
       "      <td>0.0</td>\n",
       "      <td>0.0</td>\n",
       "      <td>0.0</td>\n",
       "      <td>0.0</td>\n",
       "      <td>0.0</td>\n",
       "      <td>0.0</td>\n",
       "      <td>3</td>\n",
       "    </tr>\n",
       "    <tr>\n",
       "      <th>1</th>\n",
       "      <td>0.0</td>\n",
       "      <td>0.0</td>\n",
       "      <td>0.0</td>\n",
       "      <td>0.0</td>\n",
       "      <td>0.0</td>\n",
       "      <td>0.0</td>\n",
       "      <td>0.0</td>\n",
       "      <td>0.0</td>\n",
       "      <td>0.0</td>\n",
       "      <td>0.0</td>\n",
       "      <td>...</td>\n",
       "      <td>0.0</td>\n",
       "      <td>0.0</td>\n",
       "      <td>0.0</td>\n",
       "      <td>0.0</td>\n",
       "      <td>0.0</td>\n",
       "      <td>0.0</td>\n",
       "      <td>0.0</td>\n",
       "      <td>0.0</td>\n",
       "      <td>0.0</td>\n",
       "      <td>4</td>\n",
       "    </tr>\n",
       "    <tr>\n",
       "      <th>2</th>\n",
       "      <td>0.0</td>\n",
       "      <td>0.0</td>\n",
       "      <td>0.0</td>\n",
       "      <td>0.0</td>\n",
       "      <td>0.0</td>\n",
       "      <td>0.0</td>\n",
       "      <td>0.0</td>\n",
       "      <td>0.0</td>\n",
       "      <td>0.0</td>\n",
       "      <td>0.0</td>\n",
       "      <td>...</td>\n",
       "      <td>0.0</td>\n",
       "      <td>0.0</td>\n",
       "      <td>0.0</td>\n",
       "      <td>0.0</td>\n",
       "      <td>0.0</td>\n",
       "      <td>0.0</td>\n",
       "      <td>0.0</td>\n",
       "      <td>0.0</td>\n",
       "      <td>0.0</td>\n",
       "      <td>4</td>\n",
       "    </tr>\n",
       "    <tr>\n",
       "      <th>3</th>\n",
       "      <td>0.0</td>\n",
       "      <td>0.0</td>\n",
       "      <td>0.0</td>\n",
       "      <td>0.0</td>\n",
       "      <td>0.0</td>\n",
       "      <td>0.0</td>\n",
       "      <td>0.0</td>\n",
       "      <td>0.0</td>\n",
       "      <td>0.0</td>\n",
       "      <td>0.0</td>\n",
       "      <td>...</td>\n",
       "      <td>0.0</td>\n",
       "      <td>0.0</td>\n",
       "      <td>0.0</td>\n",
       "      <td>0.0</td>\n",
       "      <td>0.0</td>\n",
       "      <td>0.0</td>\n",
       "      <td>0.0</td>\n",
       "      <td>0.0</td>\n",
       "      <td>0.0</td>\n",
       "      <td>0</td>\n",
       "    </tr>\n",
       "    <tr>\n",
       "      <th>4</th>\n",
       "      <td>0.0</td>\n",
       "      <td>0.0</td>\n",
       "      <td>0.0</td>\n",
       "      <td>1.0</td>\n",
       "      <td>0.0</td>\n",
       "      <td>0.0</td>\n",
       "      <td>0.0</td>\n",
       "      <td>0.0</td>\n",
       "      <td>0.0</td>\n",
       "      <td>0.0</td>\n",
       "      <td>...</td>\n",
       "      <td>0.0</td>\n",
       "      <td>0.0</td>\n",
       "      <td>0.0</td>\n",
       "      <td>0.0</td>\n",
       "      <td>0.0</td>\n",
       "      <td>0.0</td>\n",
       "      <td>0.0</td>\n",
       "      <td>0.0</td>\n",
       "      <td>0.0</td>\n",
       "      <td>3</td>\n",
       "    </tr>\n",
       "  </tbody>\n",
       "</table>\n",
       "<p>5 rows × 1434 columns</p>\n",
       "</div>"
      ],
      "text/plain": [
       "     0    1    2    3    4    5    6    7    8    9  ...  1424  1425  1426  \\\n",
       "0  0.0  0.0  0.0  0.0  0.0  0.0  0.0  0.0  0.0  0.0  ...   0.0   0.0   0.0   \n",
       "1  0.0  0.0  0.0  0.0  0.0  0.0  0.0  0.0  0.0  0.0  ...   0.0   0.0   0.0   \n",
       "2  0.0  0.0  0.0  0.0  0.0  0.0  0.0  0.0  0.0  0.0  ...   0.0   0.0   0.0   \n",
       "3  0.0  0.0  0.0  0.0  0.0  0.0  0.0  0.0  0.0  0.0  ...   0.0   0.0   0.0   \n",
       "4  0.0  0.0  0.0  1.0  0.0  0.0  0.0  0.0  0.0  0.0  ...   0.0   0.0   0.0   \n",
       "\n",
       "   1427  1428  1429  1430  1431  1432  label  \n",
       "0   0.0   0.0   0.0   0.0   0.0   0.0      3  \n",
       "1   0.0   0.0   0.0   0.0   0.0   0.0      4  \n",
       "2   0.0   0.0   0.0   0.0   0.0   0.0      4  \n",
       "3   0.0   0.0   0.0   0.0   0.0   0.0      0  \n",
       "4   0.0   0.0   0.0   0.0   0.0   0.0      3  \n",
       "\n",
       "[5 rows x 1434 columns]"
      ]
     },
     "execution_count": 4,
     "metadata": {},
     "output_type": "execute_result"
    }
   ],
   "source": [
    "# visualize Cora with pandas\n",
    "import pandas as pd\n",
    "\n",
    "df = pd.DataFrame(data.x)\n",
    "df['label'] = pd.DataFrame(data.y)\n",
    "df.head()"
   ]
  },
  {
   "cell_type": "code",
   "execution_count": 5,
   "metadata": {},
   "outputs": [],
   "source": [
    "# create multilayer perceptron class\n",
    "import torch\n",
    "from torch import nn\n",
    "\n",
    "class mlp(torch.nn.Module):\n",
    "    \"\"\"Multilayer perceptron\n",
    "        dim_in: number of features\n",
    "        dim_h: number of hidden layers\n",
    "        dim_out: number of categories\"\"\"\n",
    "\n",
    "    def __init__(self, dim_in: int, dim_h: int, dim_out: int):\n",
    "        super().__init__()\n",
    "        self.mlpBlock = nn.Sequential(\n",
    "            nn.Linear(in_features=dim_in, out_features=dim_h),\n",
    "            nn.ReLU(),\n",
    "            nn.Linear(in_features=dim_h, out_features=dim_out)\n",
    "        )\n",
    "\n",
    "    def forward(self, x:torch.Tensor):\n",
    "        return nn.functional.log_softmax(self.mlpBlock(x), dim=1)\n"
   ]
  },
  {
   "cell_type": "code",
   "execution_count": 6,
   "metadata": {
    "scrolled": true
   },
   "outputs": [
    {
     "data": {
      "text/plain": [
       "mlp(\n",
       "  (mlpBlock): Sequential(\n",
       "    (0): Linear(in_features=1433, out_features=16, bias=True)\n",
       "    (1): ReLU()\n",
       "    (2): Linear(in_features=16, out_features=7, bias=True)\n",
       "  )\n",
       ")"
      ]
     },
     "execution_count": 6,
     "metadata": {},
     "output_type": "execute_result"
    }
   ],
   "source": [
    "# create an mlp instance\n",
    "model = mlp(\n",
    "    dim_in=dataset.num_features,\n",
    "    dim_h=16,\n",
    "    dim_out=dataset.num_classes\n",
    ")\n",
    "model"
   ]
  },
  {
   "cell_type": "code",
   "execution_count": 7,
   "metadata": {},
   "outputs": [],
   "source": [
    "# setup loss function and optimizer\n",
    "loss_fn = torch.nn.CrossEntropyLoss()\n",
    "optimizer = torch.optim.Adam(params=model.parameters(), lr=1e-2, weight_decay=5e-4)\n",
    "\n",
    "# setup accuracy metric\n",
    "def accuracy(y_pred, y_true):\n",
    "    return (y_pred==y_true).sum() / len(y_pred)"
   ]
  },
  {
   "cell_type": "code",
   "execution_count": 8,
   "metadata": {},
   "outputs": [],
   "source": [
    "# setup training function\n",
    "import torch_geometric\n",
    "from tqdm.auto import tqdm\n",
    "\n",
    "def train(model: torch.nn.Module,\n",
    "          data: torch_geometric.data.data.Data,\n",
    "          loss_fn: torch.nn.Module,\n",
    "          optimizer: torch.optim.Adam,\n",
    "          epochs: int=10,\n",
    "          print_results: bool=False,\n",
    "          adjacency = None):\n",
    "\n",
    "    # initilize training and validating results\n",
    "    results = {\n",
    "        'epoch'     : [],\n",
    "        'train_loss': [],\n",
    "        'train_acc' : [],\n",
    "        'val_loss'  : [],\n",
    "        'val_acc'   : []\n",
    "    }\n",
    "    \n",
    "    # switch to training mode\n",
    "    model.train()\n",
    "\n",
    "    # loop over epochs\n",
    "    for epoch in tqdm(range(epochs)):\n",
    "        # zero our gradient\n",
    "        optimizer.zero_grad()\n",
    "        # compute logit\n",
    "        if adjacency is not None:\n",
    "            logit = model(data.x, adjacency)\n",
    "        else:\n",
    "            logit = model(data.x)\n",
    "        # compute train loss\n",
    "        train_loss = loss_fn(\n",
    "            input=logit[data.train_mask],\n",
    "            target=data.y[data.train_mask]\n",
    "        )\n",
    "        # train accuracy\n",
    "        train_acc = accuracy(\n",
    "            y_pred=torch.argmax(logit[data.train_mask], dim=1),\n",
    "            y_true=data.y[data.train_mask]\n",
    "        )\n",
    "        # back propagation\n",
    "        train_loss.backward()\n",
    "        # optimizer step\n",
    "        optimizer.step()\n",
    "        # perform training validation every 20 steps\n",
    "        if epoch % 20 == 0:\n",
    "            # compute validation loss\n",
    "            val_loss = loss_fn(\n",
    "                input=logit[data.val_mask],\n",
    "                target=data.y[data.val_mask]\n",
    "            )\n",
    "            # compute validation accuracy\n",
    "            val_acc = accuracy(\n",
    "                y_pred=torch.argmax(logit[data.val_mask], dim=1),\n",
    "                y_true=data.y[data.val_mask]\n",
    "            )\n",
    "\n",
    "            # collecting results every 20 epochs\n",
    "            results['epoch'].append(epoch)\n",
    "            results['train_loss'].append(train_loss.item())\n",
    "            results['train_acc'].append(train_acc.item())\n",
    "            results['val_loss'].append(val_loss.item())\n",
    "            results['val_acc'].append(val_acc.item())\n",
    "\n",
    "            # printing training and validating result every 20 epochs\n",
    "            if print_results:\n",
    "                print(f\"{epoch:5d} | {train_loss:.3f} | {train_acc:.3f} | {val_loss:.3f} | {val_acc:.3f}\")\n",
    "\n",
    "    # return train and validation results\n",
    "    return results\n",
    "\n",
    "def test(model: torch.nn.Module,\n",
    "        data: torch_geometric.data.data.Data,\n",
    "        adjacency=None):\n",
    "\n",
    "    # switch model to evaluation mode\n",
    "    model.eval()\n",
    "    with torch.inference_mode():\n",
    "        if adjacency is not None:\n",
    "            test_logit = model(data.x, adjacency)\n",
    "        else:\n",
    "            test_logit = model(data.x)\n",
    "            \n",
    "        test_acc = accuracy(\n",
    "            y_pred=torch.argmax(test_logit[data.test_mask], dim=1),\n",
    "            y_true=data.y[data.test_mask]\n",
    "        )\n",
    "    # return test accuracy\n",
    "    return test_acc"
   ]
  },
  {
   "cell_type": "code",
   "execution_count": 9,
   "metadata": {},
   "outputs": [
    {
     "data": {
      "application/vnd.jupyter.widget-view+json": {
       "model_id": "6ed23c39eba44324a60c51e1a6547436",
       "version_major": 2,
       "version_minor": 0
      },
      "text/plain": [
       "  0%|          | 0/301 [00:00<?, ?it/s]"
      ]
     },
     "metadata": {},
     "output_type": "display_data"
    },
    {
     "name": "stdout",
     "output_type": "stream",
     "text": [
      "Test accuracy: 56.0(%)\n"
     ]
    }
   ],
   "source": [
    "# train the model\n",
    "results = train(\n",
    "    model=model,\n",
    "    data=data,\n",
    "    loss_fn=loss_fn,\n",
    "    optimizer=optimizer,\n",
    "    epochs=301\n",
    ")\n",
    "\n",
    "# compute test accuracy\n",
    "test_acc = test(\n",
    "    model=model,\n",
    "    data=data\n",
    ")\n",
    "print(f\"Test accuracy: {test_acc*100:.1f}(%)\")"
   ]
  },
  {
   "cell_type": "code",
   "execution_count": 10,
   "metadata": {},
   "outputs": [
    {
     "data": {
      "image/png": "[encoded data removed]",
      "text/plain": [
       "<Figure size 1000x400 with 2 Axes>"
      ]
     },
     "metadata": {},
     "output_type": "display_data"
    }
   ],
   "source": [
    "# visualizing training and validating results\n",
    "from typing import Dict\n",
    "import matplotlib.pyplot as plt\n",
    "\n",
    "def visualize_results(results:Dict):\n",
    "    # create two plots\n",
    "    fig, ax = plt.subplots(1, 2, figsize=(10, 4))\n",
    "    # plot train and validation loss\n",
    "    ax[0].plot(results['epoch'], results['train_loss'], label='train_loss')\n",
    "    ax[0].plot(results['epoch'], results['val_loss'], label='val_loss')\n",
    "    ax[0].set_xlabel('epoch')\n",
    "    ax[0].set_ylabel('loss')\n",
    "    ax[0].set_title('TRAIN-VAL LOSS')\n",
    "    ax[0].legend()\n",
    "    # plot train and validation accuracy\n",
    "    ax[1].plot(results['epoch'], results['train_acc'], label='train_acc')\n",
    "    ax[1].plot(results['epoch'], results['val_acc'], label='val_acc')\n",
    "    ax[1].set_xlabel('epoch')\n",
    "    ax[1].set_ylabel('acc')\n",
    "    ax[1].set_title('TRAIN-VAL ACC')\n",
    "    ax[1].legend()\n",
    "\n",
    "visualize_results(results=results)"
   ]
  },
  {
   "cell_type": "markdown",
   "metadata": {},
   "source": [
    "# Node classification using Vanilla Graph Neural Network model taking into account node features and graph topology"
   ]
  },
  {
   "cell_type": "markdown",
   "metadata": {},
   "source": [
    "* In a regular neural network taking into account only node feature, the linear transformation is fomulated as:\n",
    "\n",
    "<center>$h_A = x_AW^T$ </center>\n",
    "\n",
    "<center> $H = XW^T$ </center>\n",
    "\n",
    "* To take into account neighbor contribution ($N_A$ are neighbor nodes):\n",
    "<center> $h_A = \\sum\\limits_{i\\in N_A} x_AW^T$ </center>\n",
    "\n",
    "* In matrix form\n",
    "<center> $H = \\tilde{A}^T XW^T$ </center>\n",
    "<center> $\\tilde{A}^T = A + I$ </center>\n",
    "* Here: $A$ is adjacency matrix and $I$ is the identity matrix (to take into account the central nodes)"
   ]
  },
  {
   "cell_type": "code",
   "execution_count": 11,
   "metadata": {},
   "outputs": [
    {
     "data": {
      "text/plain": [
       "tensor([[1., 0., 0.,  ..., 0., 0., 0.],\n",
       "        [0., 1., 1.,  ..., 0., 0., 0.],\n",
       "        [0., 1., 1.,  ..., 0., 0., 0.],\n",
       "        ...,\n",
       "        [0., 0., 0.,  ..., 1., 0., 0.],\n",
       "        [0., 0., 0.,  ..., 0., 1., 1.],\n",
       "        [0., 0., 0.,  ..., 0., 1., 1.]])"
      ]
     },
     "execution_count": 11,
     "metadata": {},
     "output_type": "execute_result"
    }
   ],
   "source": [
    "# create adjacency matrix + identity matrix (A+I)\n",
    "from torch_geometric.utils import to_dense_adj\n",
    "\n",
    "# get the graph edge\n",
    "adjacency = to_dense_adj(data.edge_index)[0]\n",
    "\n",
    "# add identity matrix\n",
    "adjacency += torch.eye(len(adjacency))\n",
    "adjacency"
   ]
  },
  {
   "cell_type": "code",
   "execution_count": 12,
   "metadata": {
    "colab": {
     "base_uri": "https://localhost:8080/"
    },
    "id": "W4iU8dx0DpFR",
    "outputId": "5e7ea7eb-873f-498c-b735-bc9873f8784d"
   },
   "outputs": [],
   "source": [
    "# create a vanilla GNN layer manually perform matrix multiplication AXW\n",
    "from torch import nn\n",
    "class VanillaGNNLayer(torch.nn.Module):\n",
    "    def __init__(self, dim_in: int, dim_out: int):\n",
    "        super().__init__()\n",
    "        # XW\n",
    "        self.linear = nn.Linear(in_features=dim_in, out_features=dim_out, bias=False)\n",
    "    def forward(self, x:torch.Tensor, adjacency):\n",
    "        # A (XW)\n",
    "        return torch.sparse.mm(adjacency, self.linear(x))"
   ]
  },
  {
   "cell_type": "code",
   "execution_count": 13,
   "metadata": {},
   "outputs": [],
   "source": [
    "# create vanilla GNN class\n",
    "class VanillaGNN(torch.nn.Module):\n",
    "    \n",
    "    def __init__(self, dim_in:int, dim_h:int, dim_out:int):\n",
    "        super().__init__()\n",
    "        self.gnn1 = VanillaGNNLayer(dim_in=dim_in, dim_out=dim_h)\n",
    "        self.gnn2 = VanillaGNNLayer(dim_in=dim_h, dim_out=dim_out)\n",
    "        \n",
    "    def forward(self, x: torch.Tensor, adjacency):\n",
    "        h = self.gnn1(x, adjacency)\n",
    "        h = torch.relu(h)\n",
    "        h = self.gnn2(h, adjacency)\n",
    "        return nn.functional.log_softmax(h, dim=1)"
   ]
  },
  {
   "cell_type": "code",
   "execution_count": 14,
   "metadata": {
    "id": "OTiqwwFXQlVA"
   },
   "outputs": [
    {
     "data": {
      "text/plain": [
       "VanillaGNN(\n",
       "  (gnn1): VanillaGNNLayer(\n",
       "    (linear): Linear(in_features=1433, out_features=16, bias=False)\n",
       "  )\n",
       "  (gnn2): VanillaGNNLayer(\n",
       "    (linear): Linear(in_features=16, out_features=7, bias=False)\n",
       "  )\n",
       ")"
      ]
     },
     "execution_count": 14,
     "metadata": {},
     "output_type": "execute_result"
    }
   ],
   "source": [
    "# create a vanilla GNN instance\n",
    "model = VanillaGNN(\n",
    "    dim_in=dataset.num_features,\n",
    "    dim_h=16,\n",
    "    dim_out=dataset.num_classes\n",
    ")\n",
    "model"
   ]
  },
  {
   "cell_type": "code",
   "execution_count": 15,
   "metadata": {
    "colab": {
     "base_uri": "https://localhost:8080/"
    },
    "id": "u9eP_1qtROua",
    "outputId": "540c47fe-d910-4dd4-b310-b96eaf03ffc1"
   },
   "outputs": [],
   "source": [
    "# setup loss function and optimizer\n",
    "loss_fn = torch.nn.CrossEntropyLoss()\n",
    "optimizer = torch.optim.Adam(params=model.parameters(), lr=1e-2, weight_decay=5e-4)"
   ]
  },
  {
   "cell_type": "code",
   "execution_count": 16,
   "metadata": {},
   "outputs": [
    {
     "data": {
      "application/vnd.jupyter.widget-view+json": {
       "model_id": "540b95a4d2c7413f812de001dab2303b",
       "version_major": 2,
       "version_minor": 0
      },
      "text/plain": [
       "  0%|          | 0/101 [00:00<?, ?it/s]"
      ]
     },
     "metadata": {},
     "output_type": "display_data"
    },
    {
     "name": "stdout",
     "output_type": "stream",
     "text": [
      "    0 | 1.944 | 0.214 | 1.882 | 0.254\n",
      "   20 | 0.106 | 0.986 | 1.598 | 0.726\n",
      "   40 | 0.008 | 1.000 | 2.223 | 0.746\n",
      "   60 | 0.003 | 1.000 | 2.502 | 0.744\n",
      "   80 | 0.002 | 1.000 | 2.516 | 0.738\n",
      "  100 | 0.002 | 1.000 | 2.473 | 0.742\n",
      "Test accuracy: 75.2(%)\n"
     ]
    }
   ],
   "source": [
    "results = train(\n",
    "    model=model,\n",
    "    data=data,\n",
    "    adjacency=adjacency,\n",
    "    loss_fn=loss_fn,\n",
    "    optimizer=optimizer,\n",
    "    epochs=101,\n",
    "    print_results=True\n",
    ")\n",
    "\n",
    "test_acc = test(\n",
    "    model=model,\n",
    "    data=data,\n",
    "    adjacency=adjacency\n",
    ")\n",
    "\n",
    "print(f\"Test accuracy: {test_acc*100:.1f}(%)\")"
   ]
  },
  {
   "cell_type": "code",
   "execution_count": 17,
   "metadata": {},
   "outputs": [
    {
     "data": {
      "image/png": "[encoded data removed]",
      "text/plain": [
       "<Figure size 1000x400 with 2 Axes>"
      ]
     },
     "metadata": {},
     "output_type": "display_data"
    }
   ],
   "source": [
    "visualize_results(results=results)"
   ]
  },
  {
   "attachments": {},
   "cell_type": "markdown",
   "metadata": {},
   "source": [
    "## Applying multilayer Percentron and Vanilla GNN for Facebook Page-Page dataset\n",
    "* Facebook page-page dataset contains 22,470 pages (nodes)\n",
    "* Page are connected when there are mutual likes\n",
    "* Node features are 128-word vectors generated from user posts.\n",
    "* There are 4 categories: politicians, companies, television shows and governmental organizations\n",
    "* Target: classifying nodes to these 4 groups."
   ]
  },
  {
   "cell_type": "code",
   "execution_count": 18,
   "metadata": {},
   "outputs": [
    {
     "name": "stderr",
     "output_type": "stream",
     "text": [
      "Downloading https://graphmining.ai/datasets/ptg/facebook.npz\n",
      "Processing...\n",
      "Done!\n"
     ]
    }
   ],
   "source": [
    "# Download Facebook page-page dataset\n",
    "from torch_geometric.datasets import FacebookPagePage\n",
    "\n",
    "dataset = FacebookPagePage(root='.')\n",
    "data = dataset[0]"
   ]
  },
  {
   "cell_type": "code",
   "execution_count": 19,
   "metadata": {},
   "outputs": [],
   "source": [
    "# create train, validation and test masks\n",
    "data.train_mask = range(18000)\n",
    "data.val_mask = range(18001, 20000)\n",
    "data.test_mask = range(20001, 22470)"
   ]
  },
  {
   "cell_type": "markdown",
   "metadata": {},
   "source": [
    "## using MLP model"
   ]
  },
  {
   "cell_type": "code",
   "execution_count": 20,
   "metadata": {},
   "outputs": [
    {
     "data": {
      "text/plain": [
       "mlp(\n",
       "  (mlpBlock): Sequential(\n",
       "    (0): Linear(in_features=128, out_features=16, bias=True)\n",
       "    (1): ReLU()\n",
       "    (2): Linear(in_features=16, out_features=4, bias=True)\n",
       "  )\n",
       ")"
      ]
     },
     "execution_count": 20,
     "metadata": {},
     "output_type": "execute_result"
    }
   ],
   "source": [
    "# create an mlp instance\n",
    "model = mlp(\n",
    "    dim_in=dataset.num_features,\n",
    "    dim_h=16,\n",
    "    dim_out=dataset.num_classes\n",
    ")\n",
    "model"
   ]
  },
  {
   "cell_type": "code",
   "execution_count": 21,
   "metadata": {},
   "outputs": [],
   "source": [
    "# setup loss function and optimizer\n",
    "loss_fn = torch.nn.CrossEntropyLoss()\n",
    "optimizer = torch.optim.Adam(params=model.parameters(), lr=1e-2, weight_decay=5e-4)"
   ]
  },
  {
   "cell_type": "code",
   "execution_count": 22,
   "metadata": {},
   "outputs": [
    {
     "data": {
      "application/vnd.jupyter.widget-view+json": {
       "model_id": "9121865c313d4f8f8f9da9de3fa29479",
       "version_major": 2,
       "version_minor": 0
      },
      "text/plain": [
       "  0%|          | 0/101 [00:00<?, ?it/s]"
      ]
     },
     "metadata": {},
     "output_type": "display_data"
    },
    {
     "name": "stdout",
     "output_type": "stream",
     "text": [
      "    0 | 1.386 | 0.273 | 1.394 | 0.269\n",
      "   20 | 0.657 | 0.743 | 0.668 | 0.740\n",
      "   40 | 0.571 | 0.771 | 0.616 | 0.743\n",
      "   60 | 0.543 | 0.782 | 0.601 | 0.754\n",
      "   80 | 0.527 | 0.788 | 0.598 | 0.758\n",
      "  100 | 0.514 | 0.794 | 0.600 | 0.759\n"
     ]
    }
   ],
   "source": [
    "results = train(\n",
    "    model=model,\n",
    "    data=data,\n",
    "    loss_fn=loss_fn,\n",
    "    optimizer=optimizer,\n",
    "    epochs=101,\n",
    "    print_results=True\n",
    ")"
   ]
  },
  {
   "cell_type": "code",
   "execution_count": 23,
   "metadata": {},
   "outputs": [
    {
     "name": "stdout",
     "output_type": "stream",
     "text": [
      "Test accuracy: 75.0(%)\n"
     ]
    }
   ],
   "source": [
    "test_acc = test(\n",
    "    model=model,\n",
    "    data=data\n",
    ")\n",
    "\n",
    "print(f\"Test accuracy: {test_acc*100:.1f}(%)\")"
   ]
  },
  {
   "cell_type": "code",
   "execution_count": 24,
   "metadata": {},
   "outputs": [
    {
     "data": {
      "image/png": "[encoded data removed]",
      "text/plain": [
       "<Figure size 1000x400 with 2 Axes>"
      ]
     },
     "metadata": {},
     "output_type": "display_data"
    }
   ],
   "source": [
    "visualize_results(results=results)"
   ]
  },
  {
   "cell_type": "markdown",
   "metadata": {},
   "source": [
    "## using Vanilla GNN model"
   ]
  },
  {
   "cell_type": "code",
   "execution_count": 25,
   "metadata": {},
   "outputs": [
    {
     "data": {
      "text/plain": [
       "VanillaGNN(\n",
       "  (gnn1): VanillaGNNLayer(\n",
       "    (linear): Linear(in_features=128, out_features=16, bias=False)\n",
       "  )\n",
       "  (gnn2): VanillaGNNLayer(\n",
       "    (linear): Linear(in_features=16, out_features=4, bias=False)\n",
       "  )\n",
       ")"
      ]
     },
     "execution_count": 25,
     "metadata": {},
     "output_type": "execute_result"
    }
   ],
   "source": [
    "# create a vanilla graph instance\n",
    "model = VanillaGNN(\n",
    "    dim_in=dataset.num_features,\n",
    "    dim_h=16,\n",
    "    dim_out=dataset.num_classes\n",
    ")\n",
    "model"
   ]
  },
  {
   "cell_type": "code",
   "execution_count": 26,
   "metadata": {},
   "outputs": [
    {
     "data": {
      "text/plain": [
       "tensor([[1., 0., 0.,  ..., 0., 0., 0.],\n",
       "        [0., 1., 0.,  ..., 0., 0., 0.],\n",
       "        [0., 0., 1.,  ..., 0., 0., 0.],\n",
       "        ...,\n",
       "        [0., 0., 0.,  ..., 1., 0., 0.],\n",
       "        [0., 0., 0.,  ..., 0., 1., 0.],\n",
       "        [0., 0., 0.,  ..., 0., 0., 1.]])"
      ]
     },
     "execution_count": 26,
     "metadata": {},
     "output_type": "execute_result"
    }
   ],
   "source": [
    "# create adjacency matrix (A tilde)\n",
    "adjacency = to_dense_adj(data.edge_index)[0]\n",
    "adjacency += torch.eye(len(adjacency))\n",
    "adjacency"
   ]
  },
  {
   "cell_type": "code",
   "execution_count": 27,
   "metadata": {},
   "outputs": [],
   "source": [
    "# setup loss function and optimizer\n",
    "loss_fn = torch.nn.CrossEntropyLoss()\n",
    "optimizer = torch.optim.Adam(params=model.parameters(), lr=1e-2, weight_decay=5e-4)"
   ]
  },
  {
   "cell_type": "code",
   "execution_count": 28,
   "metadata": {},
   "outputs": [
    {
     "data": {
      "application/vnd.jupyter.widget-view+json": {
       "model_id": "284774e348a9420e8e18deaf24ca492c",
       "version_major": 2,
       "version_minor": 0
      },
      "text/plain": [
       "  0%|          | 0/101 [00:00<?, ?it/s]"
      ]
     },
     "metadata": {},
     "output_type": "display_data"
    },
    {
     "name": "stdout",
     "output_type": "stream",
     "text": [
      "    0 | 52.299 | 0.200 | 50.297 | 0.217\n",
      "   20 | 2.645 | 0.798 | 2.012 | 0.804\n",
      "   40 | 2.847 | 0.816 | 1.972 | 0.817\n",
      "   60 | 1.219 | 0.836 | 0.881 | 0.831\n",
      "   80 | 0.766 | 0.852 | 0.625 | 0.848\n",
      "  100 | 0.595 | 0.857 | 0.551 | 0.855\n"
     ]
    }
   ],
   "source": [
    "results = train(\n",
    "    model=model,\n",
    "    data=data,\n",
    "    loss_fn=loss_fn,\n",
    "    optimizer=optimizer,\n",
    "    epochs=101,\n",
    "    adjacency=adjacency,\n",
    "    print_results=True\n",
    ")"
   ]
  },
  {
   "cell_type": "code",
   "execution_count": 29,
   "metadata": {},
   "outputs": [
    {
     "data": {
      "image/png": "[encoded data removed]",
      "text/plain": [
       "<Figure size 1000x400 with 2 Axes>"
      ]
     },
     "metadata": {},
     "output_type": "display_data"
    }
   ],
   "source": [
    "visualize_results(results=results)"
   ]
  },
  {
   "cell_type": "code",
   "execution_count": 30,
   "metadata": {},
   "outputs": [
    {
     "name": "stdout",
     "output_type": "stream",
     "text": [
      "Test accuracy: 84.6(%)\n"
     ]
    }
   ],
   "source": [
    "test_acc = test(\n",
    "    model=model,\n",
    "    data=data,\n",
    "    adjacency=adjacency\n",
    ")\n",
    "\n",
    "print(f\"Test accuracy: {test_acc*100:.1f}(%)\")"
   ]
  }
 ],
 "metadata": {
  "colab": {
   "provenance": []
  },
  "kernelspec": {
   "display_name": "OLCF-CUDA11 (ipykernel)",
   "language": "python",
   "name": "python3"
  },
  "language_info": {
   "codemirror_mode": {
    "name": "ipython",
    "version": 3
   },
   "file_extension": ".py",
   "mimetype": "text/x-python",
   "name": "python",
   "nbconvert_exporter": "python",
   "pygments_lexer": "ipython3",
   "version": "3.11.7"
  },
  "vscode": {
   "interpreter": {
    "hash": "3556630122da5213751af4465d61fcf5a52cd22515d400aee51118aaa1721248"
   }
  },
  "widgets": {
   "application/vnd.jupyter.widget-state+json": {
    "327acf50ddb34eb38feab845c8da82e8": {
     "model_module": "@jupyter-widgets/controls",
     "model_module_version": "1.5.0",
     "model_name": "HTMLModel",
     "state": {
      "_dom_classes": [],
      "_model_module": "@jupyter-widgets/controls",
      "_model_module_version": "1.5.0",
      "_model_name": "HTMLModel",
      "_view_count": null,
      "_view_module": "@jupyter-widgets/controls",
      "_view_module_version": "1.5.0",
      "_view_name": "HTMLView",
      "description": "",
      "description_tooltip": null,
      "layout": "IPY_MODEL_f6f770342e9e403e9ab5f73623a8efb6",
      "placeholder": "​",
      "style": "IPY_MODEL_43717136a906424fb303ee45c7242116",
      "value": "Computing transition probabilities: 100%"
     }
    },
    "43717136a906424fb303ee45c7242116": {
     "model_module": "@jupyter-widgets/controls",
     "model_module_version": "1.5.0",
     "model_name": "DescriptionStyleModel",
     "state": {
      "_model_module": "@jupyter-widgets/controls",
      "_model_module_version": "1.5.0",
      "_model_name": "DescriptionStyleModel",
      "_view_count": null,
      "_view_module": "@jupyter-widgets/base",
      "_view_module_version": "1.2.0",
      "_view_name": "StyleView",
      "description_width": ""
     }
    },
    "51dd30f90e234e4aa17374bf2c2419f2": {
     "model_module": "@jupyter-widgets/controls",
     "model_module_version": "1.5.0",
     "model_name": "HBoxModel",
     "state": {
      "_dom_classes": [],
      "_model_module": "@jupyter-widgets/controls",
      "_model_module_version": "1.5.0",
      "_model_name": "HBoxModel",
      "_view_count": null,
      "_view_module": "@jupyter-widgets/controls",
      "_view_module_version": "1.5.0",
      "_view_name": "HBoxView",
      "box_style": "",
      "children": [
       "IPY_MODEL_327acf50ddb34eb38feab845c8da82e8",
       "IPY_MODEL_b0c83e7abab54f5792a37796cf195bc4",
       "IPY_MODEL_5983b3c6970644d183eb007ba105fcdb"
      ],
      "layout": "IPY_MODEL_c2aaf7ec538b49feaafbbe6962962454"
     }
    },
    "5983b3c6970644d183eb007ba105fcdb": {
     "model_module": "@jupyter-widgets/controls",
     "model_module_version": "1.5.0",
     "model_name": "HTMLModel",
     "state": {
      "_dom_classes": [],
      "_model_module": "@jupyter-widgets/controls",
      "_model_module_version": "1.5.0",
      "_model_name": "HTMLModel",
      "_view_count": null,
      "_view_module": "@jupyter-widgets/controls",
      "_view_module_version": "1.5.0",
      "_view_name": "HTMLView",
      "description": "",
      "description_tooltip": null,
      "layout": "IPY_MODEL_91af1f04a1dd4cadb4a231aa37d5af52",
      "placeholder": "​",
      "style": "IPY_MODEL_d9f1466ed11d479baf5878db3748cadb",
      "value": " 22470/22470 [01:34&lt;00:00, 203.42it/s]"
     }
    },
    "91af1f04a1dd4cadb4a231aa37d5af52": {
     "model_module": "@jupyter-widgets/base",
     "model_module_version": "1.2.0",
     "model_name": "LayoutModel",
     "state": {
      "_model_module": "@jupyter-widgets/base",
      "_model_module_version": "1.2.0",
      "_model_name": "LayoutModel",
      "_view_count": null,
      "_view_module": "@jupyter-widgets/base",
      "_view_module_version": "1.2.0",
      "_view_name": "LayoutView",
      "align_content": null,
      "align_items": null,
      "align_self": null,
      "border": null,
      "bottom": null,
      "display": null,
      "flex": null,
      "flex_flow": null,
      "grid_area": null,
      "grid_auto_columns": null,
      "grid_auto_flow": null,
      "grid_auto_rows": null,
      "grid_column": null,
      "grid_gap": null,
      "grid_row": null,
      "grid_template_areas": null,
      "grid_template_columns": null,
      "grid_template_rows": null,
      "height": null,
      "justify_content": null,
      "justify_items": null,
      "left": null,
      "margin": null,
      "max_height": null,
      "max_width": null,
      "min_height": null,
      "min_width": null,
      "object_fit": null,
      "object_position": null,
      "order": null,
      "overflow": null,
      "overflow_x": null,
      "overflow_y": null,
      "padding": null,
      "right": null,
      "top": null,
      "visibility": null,
      "width": null
     }
    },
    "999663613ed7491b9a12992460611248": {
     "model_module": "@jupyter-widgets/base",
     "model_module_version": "1.2.0",
     "model_name": "LayoutModel",
     "state": {
      "_model_module": "@jupyter-widgets/base",
      "_model_module_version": "1.2.0",
      "_model_name": "LayoutModel",
      "_view_count": null,
      "_view_module": "@jupyter-widgets/base",
      "_view_module_version": "1.2.0",
      "_view_name": "LayoutView",
      "align_content": null,
      "align_items": null,
      "align_self": null,
      "border": null,
      "bottom": null,
      "display": null,
      "flex": null,
      "flex_flow": null,
      "grid_area": null,
      "grid_auto_columns": null,
      "grid_auto_flow": null,
      "grid_auto_rows": null,
      "grid_column": null,
      "grid_gap": null,
      "grid_row": null,
      "grid_template_areas": null,
      "grid_template_columns": null,
      "grid_template_rows": null,
      "height": null,
      "justify_content": null,
      "justify_items": null,
      "left": null,
      "margin": null,
      "max_height": null,
      "max_width": null,
      "min_height": null,
      "min_width": null,
      "object_fit": null,
      "object_position": null,
      "order": null,
      "overflow": null,
      "overflow_x": null,
      "overflow_y": null,
      "padding": null,
      "right": null,
      "top": null,
      "visibility": null,
      "width": null
     }
    },
    "b0c83e7abab54f5792a37796cf195bc4": {
     "model_module": "@jupyter-widgets/controls",
     "model_module_version": "1.5.0",
     "model_name": "FloatProgressModel",
     "state": {
      "_dom_classes": [],
      "_model_module": "@jupyter-widgets/controls",
      "_model_module_version": "1.5.0",
      "_model_name": "FloatProgressModel",
      "_view_count": null,
      "_view_module": "@jupyter-widgets/controls",
      "_view_module_version": "1.5.0",
      "_view_name": "ProgressView",
      "bar_style": "success",
      "description": "",
      "description_tooltip": null,
      "layout": "IPY_MODEL_999663613ed7491b9a12992460611248",
      "max": 22470,
      "min": 0,
      "orientation": "horizontal",
      "style": "IPY_MODEL_b4fe165a8fcf4812b18f7ad54b7a7016",
      "value": 22470
     }
    },
    "b4fe165a8fcf4812b18f7ad54b7a7016": {
     "model_module": "@jupyter-widgets/controls",
     "model_module_version": "1.5.0",
     "model_name": "ProgressStyleModel",
     "state": {
      "_model_module": "@jupyter-widgets/controls",
      "_model_module_version": "1.5.0",
      "_model_name": "ProgressStyleModel",
      "_view_count": null,
      "_view_module": "@jupyter-widgets/base",
      "_view_module_version": "1.2.0",
      "_view_name": "StyleView",
      "bar_color": null,
      "description_width": ""
     }
    },
    "c2aaf7ec538b49feaafbbe6962962454": {
     "model_module": "@jupyter-widgets/base",
     "model_module_version": "1.2.0",
     "model_name": "LayoutModel",
     "state": {
      "_model_module": "@jupyter-widgets/base",
      "_model_module_version": "1.2.0",
      "_model_name": "LayoutModel",
      "_view_count": null,
      "_view_module": "@jupyter-widgets/base",
      "_view_module_version": "1.2.0",
      "_view_name": "LayoutView",
      "align_content": null,
      "align_items": null,
      "align_self": null,
      "border": null,
      "bottom": null,
      "display": null,
      "flex": null,
      "flex_flow": null,
      "grid_area": null,
      "grid_auto_columns": null,
      "grid_auto_flow": null,
      "grid_auto_rows": null,
      "grid_column": null,
      "grid_gap": null,
      "grid_row": null,
      "grid_template_areas": null,
      "grid_template_columns": null,
      "grid_template_rows": null,
      "height": null,
      "justify_content": null,
      "justify_items": null,
      "left": null,
      "margin": null,
      "max_height": null,
      "max_width": null,
      "min_height": null,
      "min_width": null,
      "object_fit": null,
      "object_position": null,
      "order": null,
      "overflow": null,
      "overflow_x": null,
      "overflow_y": null,
      "padding": null,
      "right": null,
      "top": null,
      "visibility": null,
      "width": null
     }
    },
    "d9f1466ed11d479baf5878db3748cadb": {
     "model_module": "@jupyter-widgets/controls",
     "model_module_version": "1.5.0",
     "model_name": "DescriptionStyleModel",
     "state": {
      "_model_module": "@jupyter-widgets/controls",
      "_model_module_version": "1.5.0",
      "_model_name": "DescriptionStyleModel",
      "_view_count": null,
      "_view_module": "@jupyter-widgets/base",
      "_view_module_version": "1.2.0",
      "_view_name": "StyleView",
      "description_width": ""
     }
    },
    "f6f770342e9e403e9ab5f73623a8efb6": {
     "model_module": "@jupyter-widgets/base",
     "model_module_version": "1.2.0",
     "model_name": "LayoutModel",
     "state": {
      "_model_module": "@jupyter-widgets/base",
      "_model_module_version": "1.2.0",
      "_model_name": "LayoutModel",
      "_view_count": null,
      "_view_module": "@jupyter-widgets/base",
      "_view_module_version": "1.2.0",
      "_view_name": "LayoutView",
      "align_content": null,
      "align_items": null,
      "align_self": null,
      "border": null,
      "bottom": null,
      "display": null,
      "flex": null,
      "flex_flow": null,
      "grid_area": null,
      "grid_auto_columns": null,
      "grid_auto_flow": null,
      "grid_auto_rows": null,
      "grid_column": null,
      "grid_gap": null,
      "grid_row": null,
      "grid_template_areas": null,
      "grid_template_columns": null,
      "grid_template_rows": null,
      "height": null,
      "justify_content": null,
      "justify_items": null,
      "left": null,
      "margin": null,
      "max_height": null,
      "max_width": null,
      "min_height": null,
      "min_width": null,
      "object_fit": null,
      "object_position": null,
      "order": null,
      "overflow": null,
      "overflow_x": null,
      "overflow_y": null,
      "padding": null,
      "right": null,
      "top": null,
      "visibility": null,
      "width": null
     }
    }
   }
  }
 },
 "nbformat": 4,
 "nbformat_minor": 4
}
